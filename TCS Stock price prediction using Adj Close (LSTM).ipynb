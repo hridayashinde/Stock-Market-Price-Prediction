{
 "cells": [
  {
   "cell_type": "markdown",
   "metadata": {
    "id": "3C2jz2DC_aQn"
   },
   "source": [
    "# Download and load stocks data"
   ]
  },
  {
   "cell_type": "markdown",
   "metadata": {
    "id": "n35y-dGy3ClN"
   },
   "source": [
    "## Download data"
   ]
  },
  {
   "cell_type": "code",
   "execution_count": 1,
   "metadata": {},
   "outputs": [],
   "source": [
    "import yfinance as yf\n",
    "from datetime import date\n",
    "today = date.today()"
   ]
  },
  {
   "cell_type": "code",
   "execution_count": 2,
   "metadata": {},
   "outputs": [
    {
     "name": "stdout",
     "output_type": "stream",
     "text": [
      "[*********************100%***********************]  1 of 1 completed\n"
     ]
    },
    {
     "data": {
      "text/html": [
       "<div>\n",
       "<style scoped>\n",
       "    .dataframe tbody tr th:only-of-type {\n",
       "        vertical-align: middle;\n",
       "    }\n",
       "\n",
       "    .dataframe tbody tr th {\n",
       "        vertical-align: top;\n",
       "    }\n",
       "\n",
       "    .dataframe thead th {\n",
       "        text-align: right;\n",
       "    }\n",
       "</style>\n",
       "<table border=\"1\" class=\"dataframe\">\n",
       "  <thead>\n",
       "    <tr style=\"text-align: right;\">\n",
       "      <th></th>\n",
       "      <th>Open</th>\n",
       "      <th>High</th>\n",
       "      <th>Low</th>\n",
       "      <th>Close</th>\n",
       "      <th>Adj Close</th>\n",
       "      <th>Volume</th>\n",
       "    </tr>\n",
       "    <tr>\n",
       "      <th>Date</th>\n",
       "      <th></th>\n",
       "      <th></th>\n",
       "      <th></th>\n",
       "      <th></th>\n",
       "      <th></th>\n",
       "      <th></th>\n",
       "    </tr>\n",
       "  </thead>\n",
       "  <tbody>\n",
       "    <tr>\n",
       "      <th>2013-11-01</th>\n",
       "      <td>35.000000</td>\n",
       "      <td>37.000000</td>\n",
       "      <td>32.099998</td>\n",
       "      <td>36.200001</td>\n",
       "      <td>33.839130</td>\n",
       "      <td>14667600</td>\n",
       "    </tr>\n",
       "    <tr>\n",
       "      <th>2013-11-04</th>\n",
       "      <td>36.799999</td>\n",
       "      <td>36.799999</td>\n",
       "      <td>34.689999</td>\n",
       "      <td>35.349998</td>\n",
       "      <td>33.044563</td>\n",
       "      <td>1586600</td>\n",
       "    </tr>\n",
       "    <tr>\n",
       "      <th>2013-11-05</th>\n",
       "      <td>35.110001</td>\n",
       "      <td>35.500000</td>\n",
       "      <td>34.820000</td>\n",
       "      <td>35.349998</td>\n",
       "      <td>33.044563</td>\n",
       "      <td>337700</td>\n",
       "    </tr>\n",
       "    <tr>\n",
       "      <th>2013-11-06</th>\n",
       "      <td>35.610001</td>\n",
       "      <td>36.490002</td>\n",
       "      <td>35.610001</td>\n",
       "      <td>35.900002</td>\n",
       "      <td>33.558697</td>\n",
       "      <td>549600</td>\n",
       "    </tr>\n",
       "    <tr>\n",
       "      <th>2013-11-07</th>\n",
       "      <td>36.799999</td>\n",
       "      <td>36.799999</td>\n",
       "      <td>34.119999</td>\n",
       "      <td>35.310001</td>\n",
       "      <td>33.007175</td>\n",
       "      <td>883700</td>\n",
       "    </tr>\n",
       "    <tr>\n",
       "      <th>...</th>\n",
       "      <td>...</td>\n",
       "      <td>...</td>\n",
       "      <td>...</td>\n",
       "      <td>...</td>\n",
       "      <td>...</td>\n",
       "      <td>...</td>\n",
       "    </tr>\n",
       "    <tr>\n",
       "      <th>2021-11-08</th>\n",
       "      <td>13.660000</td>\n",
       "      <td>14.000000</td>\n",
       "      <td>13.300000</td>\n",
       "      <td>13.660000</td>\n",
       "      <td>13.660000</td>\n",
       "      <td>882900</td>\n",
       "    </tr>\n",
       "    <tr>\n",
       "      <th>2021-11-09</th>\n",
       "      <td>13.630000</td>\n",
       "      <td>13.980000</td>\n",
       "      <td>13.320000</td>\n",
       "      <td>13.610000</td>\n",
       "      <td>13.610000</td>\n",
       "      <td>532500</td>\n",
       "    </tr>\n",
       "    <tr>\n",
       "      <th>2021-11-10</th>\n",
       "      <td>13.520000</td>\n",
       "      <td>13.600000</td>\n",
       "      <td>13.160000</td>\n",
       "      <td>13.330000</td>\n",
       "      <td>13.330000</td>\n",
       "      <td>515100</td>\n",
       "    </tr>\n",
       "    <tr>\n",
       "      <th>2021-11-11</th>\n",
       "      <td>13.300000</td>\n",
       "      <td>13.420000</td>\n",
       "      <td>13.060000</td>\n",
       "      <td>13.180000</td>\n",
       "      <td>13.180000</td>\n",
       "      <td>372300</td>\n",
       "    </tr>\n",
       "    <tr>\n",
       "      <th>2021-11-12</th>\n",
       "      <td>13.180000</td>\n",
       "      <td>13.520000</td>\n",
       "      <td>13.160000</td>\n",
       "      <td>13.460000</td>\n",
       "      <td>13.460000</td>\n",
       "      <td>312500</td>\n",
       "    </tr>\n",
       "  </tbody>\n",
       "</table>\n",
       "<p>2023 rows × 6 columns</p>\n",
       "</div>"
      ],
      "text/plain": [
       "                 Open       High        Low      Close  Adj Close    Volume\n",
       "Date                                                                       \n",
       "2013-11-01  35.000000  37.000000  32.099998  36.200001  33.839130  14667600\n",
       "2013-11-04  36.799999  36.799999  34.689999  35.349998  33.044563   1586600\n",
       "2013-11-05  35.110001  35.500000  34.820000  35.349998  33.044563    337700\n",
       "2013-11-06  35.610001  36.490002  35.610001  35.900002  33.558697    549600\n",
       "2013-11-07  36.799999  36.799999  34.119999  35.310001  33.007175    883700\n",
       "...               ...        ...        ...        ...        ...       ...\n",
       "2021-11-08  13.660000  14.000000  13.300000  13.660000  13.660000    882900\n",
       "2021-11-09  13.630000  13.980000  13.320000  13.610000  13.610000    532500\n",
       "2021-11-10  13.520000  13.600000  13.160000  13.330000  13.330000    515100\n",
       "2021-11-11  13.300000  13.420000  13.060000  13.180000  13.180000    372300\n",
       "2021-11-12  13.180000  13.520000  13.160000  13.460000  13.460000    312500\n",
       "\n",
       "[2023 rows x 6 columns]"
      ]
     },
     "execution_count": 2,
     "metadata": {},
     "output_type": "execute_result"
    }
   ],
   "source": [
    "import yfinance as yf\n",
    "\n",
    "#define the ticker symbol\n",
    "tickerSymbol = 'TCS'\n",
    "\n",
    "#get data on this ticker\n",
    "tickerData = yf.Ticker(tickerSymbol)\n",
    "\n",
    "#get the historical prices for this ticker\n",
    "data2 = tickerData.history(period='1d', start='2004-1-1', end=today)\n",
    "data = yf.download(\"TCS\", start=\"2001-01-01\", end=today)\n",
    "#see your data\n",
    "data"
   ]
  },
  {
   "cell_type": "code",
   "execution_count": 3,
   "metadata": {},
   "outputs": [
    {
     "data": {
      "text/html": [
       "<div>\n",
       "<style scoped>\n",
       "    .dataframe tbody tr th:only-of-type {\n",
       "        vertical-align: middle;\n",
       "    }\n",
       "\n",
       "    .dataframe tbody tr th {\n",
       "        vertical-align: top;\n",
       "    }\n",
       "\n",
       "    .dataframe thead th {\n",
       "        text-align: right;\n",
       "    }\n",
       "</style>\n",
       "<table border=\"1\" class=\"dataframe\">\n",
       "  <thead>\n",
       "    <tr style=\"text-align: right;\">\n",
       "      <th></th>\n",
       "      <th>Date</th>\n",
       "      <th>Open</th>\n",
       "      <th>High</th>\n",
       "      <th>Low</th>\n",
       "      <th>Close</th>\n",
       "      <th>Adj Close</th>\n",
       "      <th>Volume</th>\n",
       "    </tr>\n",
       "  </thead>\n",
       "  <tbody>\n",
       "    <tr>\n",
       "      <th>0</th>\n",
       "      <td>2013-11-01</td>\n",
       "      <td>35.000000</td>\n",
       "      <td>37.000000</td>\n",
       "      <td>32.099998</td>\n",
       "      <td>36.200001</td>\n",
       "      <td>33.839130</td>\n",
       "      <td>14667600</td>\n",
       "    </tr>\n",
       "    <tr>\n",
       "      <th>1</th>\n",
       "      <td>2013-11-04</td>\n",
       "      <td>36.799999</td>\n",
       "      <td>36.799999</td>\n",
       "      <td>34.689999</td>\n",
       "      <td>35.349998</td>\n",
       "      <td>33.044563</td>\n",
       "      <td>1586600</td>\n",
       "    </tr>\n",
       "    <tr>\n",
       "      <th>2</th>\n",
       "      <td>2013-11-05</td>\n",
       "      <td>35.110001</td>\n",
       "      <td>35.500000</td>\n",
       "      <td>34.820000</td>\n",
       "      <td>35.349998</td>\n",
       "      <td>33.044563</td>\n",
       "      <td>337700</td>\n",
       "    </tr>\n",
       "    <tr>\n",
       "      <th>3</th>\n",
       "      <td>2013-11-06</td>\n",
       "      <td>35.610001</td>\n",
       "      <td>36.490002</td>\n",
       "      <td>35.610001</td>\n",
       "      <td>35.900002</td>\n",
       "      <td>33.558697</td>\n",
       "      <td>549600</td>\n",
       "    </tr>\n",
       "    <tr>\n",
       "      <th>4</th>\n",
       "      <td>2013-11-07</td>\n",
       "      <td>36.799999</td>\n",
       "      <td>36.799999</td>\n",
       "      <td>34.119999</td>\n",
       "      <td>35.310001</td>\n",
       "      <td>33.007175</td>\n",
       "      <td>883700</td>\n",
       "    </tr>\n",
       "    <tr>\n",
       "      <th>...</th>\n",
       "      <td>...</td>\n",
       "      <td>...</td>\n",
       "      <td>...</td>\n",
       "      <td>...</td>\n",
       "      <td>...</td>\n",
       "      <td>...</td>\n",
       "      <td>...</td>\n",
       "    </tr>\n",
       "    <tr>\n",
       "      <th>2018</th>\n",
       "      <td>2021-11-08</td>\n",
       "      <td>13.660000</td>\n",
       "      <td>14.000000</td>\n",
       "      <td>13.300000</td>\n",
       "      <td>13.660000</td>\n",
       "      <td>13.660000</td>\n",
       "      <td>882900</td>\n",
       "    </tr>\n",
       "    <tr>\n",
       "      <th>2019</th>\n",
       "      <td>2021-11-09</td>\n",
       "      <td>13.630000</td>\n",
       "      <td>13.980000</td>\n",
       "      <td>13.320000</td>\n",
       "      <td>13.610000</td>\n",
       "      <td>13.610000</td>\n",
       "      <td>532500</td>\n",
       "    </tr>\n",
       "    <tr>\n",
       "      <th>2020</th>\n",
       "      <td>2021-11-10</td>\n",
       "      <td>13.520000</td>\n",
       "      <td>13.600000</td>\n",
       "      <td>13.160000</td>\n",
       "      <td>13.330000</td>\n",
       "      <td>13.330000</td>\n",
       "      <td>515100</td>\n",
       "    </tr>\n",
       "    <tr>\n",
       "      <th>2021</th>\n",
       "      <td>2021-11-11</td>\n",
       "      <td>13.300000</td>\n",
       "      <td>13.420000</td>\n",
       "      <td>13.060000</td>\n",
       "      <td>13.180000</td>\n",
       "      <td>13.180000</td>\n",
       "      <td>372300</td>\n",
       "    </tr>\n",
       "    <tr>\n",
       "      <th>2022</th>\n",
       "      <td>2021-11-12</td>\n",
       "      <td>13.180000</td>\n",
       "      <td>13.520000</td>\n",
       "      <td>13.160000</td>\n",
       "      <td>13.460000</td>\n",
       "      <td>13.460000</td>\n",
       "      <td>312500</td>\n",
       "    </tr>\n",
       "  </tbody>\n",
       "</table>\n",
       "<p>2023 rows × 7 columns</p>\n",
       "</div>"
      ],
      "text/plain": [
       "           Date       Open       High        Low      Close  Adj Close  \\\n",
       "0    2013-11-01  35.000000  37.000000  32.099998  36.200001  33.839130   \n",
       "1    2013-11-04  36.799999  36.799999  34.689999  35.349998  33.044563   \n",
       "2    2013-11-05  35.110001  35.500000  34.820000  35.349998  33.044563   \n",
       "3    2013-11-06  35.610001  36.490002  35.610001  35.900002  33.558697   \n",
       "4    2013-11-07  36.799999  36.799999  34.119999  35.310001  33.007175   \n",
       "...         ...        ...        ...        ...        ...        ...   \n",
       "2018 2021-11-08  13.660000  14.000000  13.300000  13.660000  13.660000   \n",
       "2019 2021-11-09  13.630000  13.980000  13.320000  13.610000  13.610000   \n",
       "2020 2021-11-10  13.520000  13.600000  13.160000  13.330000  13.330000   \n",
       "2021 2021-11-11  13.300000  13.420000  13.060000  13.180000  13.180000   \n",
       "2022 2021-11-12  13.180000  13.520000  13.160000  13.460000  13.460000   \n",
       "\n",
       "        Volume  \n",
       "0     14667600  \n",
       "1      1586600  \n",
       "2       337700  \n",
       "3       549600  \n",
       "4       883700  \n",
       "...        ...  \n",
       "2018    882900  \n",
       "2019    532500  \n",
       "2020    515100  \n",
       "2021    372300  \n",
       "2022    312500  \n",
       "\n",
       "[2023 rows x 7 columns]"
      ]
     },
     "execution_count": 3,
     "metadata": {},
     "output_type": "execute_result"
    }
   ],
   "source": [
    "data = data.rename_axis('Date').reset_index()\n",
    "data"
   ]
  },
  {
   "cell_type": "markdown",
   "metadata": {
    "id": "gx07KKth3GQh"
   },
   "source": [
    "## Import libraries"
   ]
  },
  {
   "cell_type": "code",
   "execution_count": 4,
   "metadata": {
    "id": "5jXU-eYEU2cg"
   },
   "outputs": [],
   "source": [
    "import pandas as pd\n",
    "import numpy as np"
   ]
  },
  {
   "cell_type": "code",
   "execution_count": 5,
   "metadata": {
    "colab": {
     "base_uri": "https://localhost:8080/",
     "height": 112
    },
    "id": "AH1YVjU2VBOt",
    "outputId": "adcce420-91e1-4b3a-f9d0-9c2f81f1e15e"
   },
   "outputs": [
    {
     "data": {
      "text/html": [
       "<div>\n",
       "<style scoped>\n",
       "    .dataframe tbody tr th:only-of-type {\n",
       "        vertical-align: middle;\n",
       "    }\n",
       "\n",
       "    .dataframe tbody tr th {\n",
       "        vertical-align: top;\n",
       "    }\n",
       "\n",
       "    .dataframe thead th {\n",
       "        text-align: right;\n",
       "    }\n",
       "</style>\n",
       "<table border=\"1\" class=\"dataframe\">\n",
       "  <thead>\n",
       "    <tr style=\"text-align: right;\">\n",
       "      <th></th>\n",
       "      <th>Date</th>\n",
       "      <th>Open</th>\n",
       "      <th>High</th>\n",
       "      <th>Low</th>\n",
       "      <th>Close</th>\n",
       "      <th>Adj Close</th>\n",
       "      <th>Volume</th>\n",
       "    </tr>\n",
       "  </thead>\n",
       "  <tbody>\n",
       "    <tr>\n",
       "      <th>0</th>\n",
       "      <td>2013-11-01</td>\n",
       "      <td>35.000000</td>\n",
       "      <td>37.000000</td>\n",
       "      <td>32.099998</td>\n",
       "      <td>36.200001</td>\n",
       "      <td>33.839130</td>\n",
       "      <td>14667600</td>\n",
       "    </tr>\n",
       "    <tr>\n",
       "      <th>1</th>\n",
       "      <td>2013-11-04</td>\n",
       "      <td>36.799999</td>\n",
       "      <td>36.799999</td>\n",
       "      <td>34.689999</td>\n",
       "      <td>35.349998</td>\n",
       "      <td>33.044563</td>\n",
       "      <td>1586600</td>\n",
       "    </tr>\n",
       "  </tbody>\n",
       "</table>\n",
       "</div>"
      ],
      "text/plain": [
       "        Date       Open       High        Low      Close  Adj Close    Volume\n",
       "0 2013-11-01  35.000000  37.000000  32.099998  36.200001  33.839130  14667600\n",
       "1 2013-11-04  36.799999  36.799999  34.689999  35.349998  33.044563   1586600"
      ]
     },
     "execution_count": 5,
     "metadata": {},
     "output_type": "execute_result"
    }
   ],
   "source": [
    "data.head(2)"
   ]
  },
  {
   "cell_type": "code",
   "execution_count": 6,
   "metadata": {
    "colab": {
     "base_uri": "https://localhost:8080/",
     "height": 422
    },
    "id": "AY_ptZySAyaj",
    "outputId": "ba686bbb-e421-4b2a-b1f3-0b9eb2db4e69"
   },
   "outputs": [
    {
     "data": {
      "text/html": [
       "<div>\n",
       "<style scoped>\n",
       "    .dataframe tbody tr th:only-of-type {\n",
       "        vertical-align: middle;\n",
       "    }\n",
       "\n",
       "    .dataframe tbody tr th {\n",
       "        vertical-align: top;\n",
       "    }\n",
       "\n",
       "    .dataframe thead th {\n",
       "        text-align: right;\n",
       "    }\n",
       "</style>\n",
       "<table border=\"1\" class=\"dataframe\">\n",
       "  <thead>\n",
       "    <tr style=\"text-align: right;\">\n",
       "      <th></th>\n",
       "      <th>Date</th>\n",
       "      <th>Open</th>\n",
       "      <th>High</th>\n",
       "      <th>Low</th>\n",
       "      <th>Close</th>\n",
       "      <th>Adj Close</th>\n",
       "      <th>Volume</th>\n",
       "    </tr>\n",
       "  </thead>\n",
       "  <tbody>\n",
       "    <tr>\n",
       "      <th>0</th>\n",
       "      <td>2013-11-01</td>\n",
       "      <td>35.000000</td>\n",
       "      <td>37.000000</td>\n",
       "      <td>32.099998</td>\n",
       "      <td>36.200001</td>\n",
       "      <td>33.839130</td>\n",
       "      <td>14667600</td>\n",
       "    </tr>\n",
       "    <tr>\n",
       "      <th>1</th>\n",
       "      <td>2013-11-04</td>\n",
       "      <td>36.799999</td>\n",
       "      <td>36.799999</td>\n",
       "      <td>34.689999</td>\n",
       "      <td>35.349998</td>\n",
       "      <td>33.044563</td>\n",
       "      <td>1586600</td>\n",
       "    </tr>\n",
       "    <tr>\n",
       "      <th>2</th>\n",
       "      <td>2013-11-05</td>\n",
       "      <td>35.110001</td>\n",
       "      <td>35.500000</td>\n",
       "      <td>34.820000</td>\n",
       "      <td>35.349998</td>\n",
       "      <td>33.044563</td>\n",
       "      <td>337700</td>\n",
       "    </tr>\n",
       "    <tr>\n",
       "      <th>3</th>\n",
       "      <td>2013-11-06</td>\n",
       "      <td>35.610001</td>\n",
       "      <td>36.490002</td>\n",
       "      <td>35.610001</td>\n",
       "      <td>35.900002</td>\n",
       "      <td>33.558697</td>\n",
       "      <td>549600</td>\n",
       "    </tr>\n",
       "    <tr>\n",
       "      <th>4</th>\n",
       "      <td>2013-11-07</td>\n",
       "      <td>36.799999</td>\n",
       "      <td>36.799999</td>\n",
       "      <td>34.119999</td>\n",
       "      <td>35.310001</td>\n",
       "      <td>33.007175</td>\n",
       "      <td>883700</td>\n",
       "    </tr>\n",
       "    <tr>\n",
       "      <th>...</th>\n",
       "      <td>...</td>\n",
       "      <td>...</td>\n",
       "      <td>...</td>\n",
       "      <td>...</td>\n",
       "      <td>...</td>\n",
       "      <td>...</td>\n",
       "      <td>...</td>\n",
       "    </tr>\n",
       "    <tr>\n",
       "      <th>2018</th>\n",
       "      <td>2021-11-08</td>\n",
       "      <td>13.660000</td>\n",
       "      <td>14.000000</td>\n",
       "      <td>13.300000</td>\n",
       "      <td>13.660000</td>\n",
       "      <td>13.660000</td>\n",
       "      <td>882900</td>\n",
       "    </tr>\n",
       "    <tr>\n",
       "      <th>2019</th>\n",
       "      <td>2021-11-09</td>\n",
       "      <td>13.630000</td>\n",
       "      <td>13.980000</td>\n",
       "      <td>13.320000</td>\n",
       "      <td>13.610000</td>\n",
       "      <td>13.610000</td>\n",
       "      <td>532500</td>\n",
       "    </tr>\n",
       "    <tr>\n",
       "      <th>2020</th>\n",
       "      <td>2021-11-10</td>\n",
       "      <td>13.520000</td>\n",
       "      <td>13.600000</td>\n",
       "      <td>13.160000</td>\n",
       "      <td>13.330000</td>\n",
       "      <td>13.330000</td>\n",
       "      <td>515100</td>\n",
       "    </tr>\n",
       "    <tr>\n",
       "      <th>2021</th>\n",
       "      <td>2021-11-11</td>\n",
       "      <td>13.300000</td>\n",
       "      <td>13.420000</td>\n",
       "      <td>13.060000</td>\n",
       "      <td>13.180000</td>\n",
       "      <td>13.180000</td>\n",
       "      <td>372300</td>\n",
       "    </tr>\n",
       "    <tr>\n",
       "      <th>2022</th>\n",
       "      <td>2021-11-12</td>\n",
       "      <td>13.180000</td>\n",
       "      <td>13.520000</td>\n",
       "      <td>13.160000</td>\n",
       "      <td>13.460000</td>\n",
       "      <td>13.460000</td>\n",
       "      <td>312500</td>\n",
       "    </tr>\n",
       "  </tbody>\n",
       "</table>\n",
       "<p>2023 rows × 7 columns</p>\n",
       "</div>"
      ],
      "text/plain": [
       "           Date       Open       High        Low      Close  Adj Close  \\\n",
       "0    2013-11-01  35.000000  37.000000  32.099998  36.200001  33.839130   \n",
       "1    2013-11-04  36.799999  36.799999  34.689999  35.349998  33.044563   \n",
       "2    2013-11-05  35.110001  35.500000  34.820000  35.349998  33.044563   \n",
       "3    2013-11-06  35.610001  36.490002  35.610001  35.900002  33.558697   \n",
       "4    2013-11-07  36.799999  36.799999  34.119999  35.310001  33.007175   \n",
       "...         ...        ...        ...        ...        ...        ...   \n",
       "2018 2021-11-08  13.660000  14.000000  13.300000  13.660000  13.660000   \n",
       "2019 2021-11-09  13.630000  13.980000  13.320000  13.610000  13.610000   \n",
       "2020 2021-11-10  13.520000  13.600000  13.160000  13.330000  13.330000   \n",
       "2021 2021-11-11  13.300000  13.420000  13.060000  13.180000  13.180000   \n",
       "2022 2021-11-12  13.180000  13.520000  13.160000  13.460000  13.460000   \n",
       "\n",
       "        Volume  \n",
       "0     14667600  \n",
       "1      1586600  \n",
       "2       337700  \n",
       "3       549600  \n",
       "4       883700  \n",
       "...        ...  \n",
       "2018    882900  \n",
       "2019    532500  \n",
       "2020    515100  \n",
       "2021    372300  \n",
       "2022    312500  \n",
       "\n",
       "[2023 rows x 7 columns]"
      ]
     },
     "execution_count": 6,
     "metadata": {},
     "output_type": "execute_result"
    }
   ],
   "source": [
    "data['Date'] = pd.to_datetime(data['Date'])\n",
    "data"
   ]
  },
  {
   "cell_type": "code",
   "execution_count": 7,
   "metadata": {
    "id": "uBTyQ2eemgUd"
   },
   "outputs": [],
   "source": [
    "data = data.dropna()"
   ]
  },
  {
   "cell_type": "markdown",
   "metadata": {
    "id": "B-HWPdBE3LkR"
   },
   "source": [
    "## Plot data"
   ]
  },
  {
   "cell_type": "code",
   "execution_count": 8,
   "metadata": {
    "id": "hYL05ttT_ZHH"
   },
   "outputs": [],
   "source": [
    "import matplotlib.pyplot as plt"
   ]
  },
  {
   "cell_type": "code",
   "execution_count": 9,
   "metadata": {
    "colab": {
     "base_uri": "https://localhost:8080/",
     "height": 340
    },
    "id": "G_wVwW3G9M1s",
    "outputId": "e3a4ab72-2b97-44b5-9e85-91abfa29746a"
   },
   "outputs": [
    {
     "data": {
      "image/png": "[encoded data removed]",
      "text/plain": [
       "<Figure size 1800x504 with 1 Axes>"
      ]
     },
     "metadata": {
      "needs_background": "light"
     },
     "output_type": "display_data"
    }
   ],
   "source": [
    "fig = plt.figure(figsize = (25, 7))\n",
    "plt.plot(data.Date,data.High, color = 'red', label = 'TCS Stock Price')\n",
    "plt.xlabel('Year')\n",
    "plt.ylabel('INR')\n",
    "plt.legend()\n",
    "plt.show()"
   ]
  },
  {
   "cell_type": "markdown",
   "metadata": {
    "id": "rEdtW9foBy-o"
   },
   "source": [
    "# Splitting data into training and testing"
   ]
  },
  {
   "cell_type": "code",
   "execution_count": 10,
   "metadata": {
    "colab": {
     "base_uri": "https://localhost:8080/"
    },
    "id": "XMh_0KHrf-tm",
    "outputId": "6b33f7e0-1ae0-4d6a-fa90-08682db009bf"
   },
   "outputs": [
    {
     "data": {
      "text/plain": [
       "(2023, 7)"
      ]
     },
     "execution_count": 10,
     "metadata": {},
     "output_type": "execute_result"
    }
   ],
   "source": [
    "data.shape\n",
    "#rows*colums"
   ]
  },
  {
   "cell_type": "code",
   "execution_count": 11,
   "metadata": {
    "colab": {
     "base_uri": "https://localhost:8080/"
    },
    "id": "jsDKPzDd-Qrv",
    "outputId": "c503cd47-302d-468a-d1da-0214db910e92"
   },
   "outputs": [
    {
     "data": {
      "text/plain": [
       "1618.4"
      ]
     },
     "execution_count": 11,
     "metadata": {},
     "output_type": "execute_result"
    }
   ],
   "source": [
    "data.shape[0]*0.8"
   ]
  },
  {
   "cell_type": "code",
   "execution_count": 12,
   "metadata": {
    "id": "qFQ56njJVM_H"
   },
   "outputs": [],
   "source": [
    "# 80% will be used for traning, and 20% for testing\n",
    "\n",
    "train_size = 0.8        # 80%\n",
    "split_index = int(train_size * data.shape[0])\n",
    "\n",
    "factors_column = ['Open', 'High', 'Low', 'Close', 'Volume', 'Adj Close']\n",
    "y_col_index = 5 # Adj Close\n",
    "\n",
    "train_set = data[factors_column].values[:split_index]\n",
    "test_set = data[factors_column].values[split_index:]"
   ]
  },
  {
   "cell_type": "code",
   "execution_count": 13,
   "metadata": {
    "colab": {
     "base_uri": "https://localhost:8080/"
    },
    "id": "inaM6Q7wT577",
    "outputId": "93cac45f-ff5b-4944-8631-0f6c8c3b979b"
   },
   "outputs": [
    {
     "data": {
      "text/plain": [
       "1618"
      ]
     },
     "execution_count": 13,
     "metadata": {},
     "output_type": "execute_result"
    }
   ],
   "source": [
    "split_index"
   ]
  },
  {
   "cell_type": "markdown",
   "metadata": {
    "id": "kqSDM7bJCnDZ"
   },
   "source": [
    "# Scaling data between 0-1\n"
   ]
  },
  {
   "cell_type": "code",
   "execution_count": 14,
   "metadata": {
    "id": "qAp-LD1KVR1G"
   },
   "outputs": [],
   "source": [
    "from sklearn.preprocessing import MinMaxScaler\n",
    "\n",
    "# scale our price from 0 to 1\n",
    "\n",
    "sc = MinMaxScaler(feature_range = (0, 1))\n",
    "train_set_scaled = sc.fit_transform(train_set)\n",
    "test_set_scaled = sc.fit_transform(test_set)"
   ]
  },
  {
   "cell_type": "code",
   "execution_count": 15,
   "metadata": {
    "colab": {
     "base_uri": "https://localhost:8080/"
    },
    "id": "MHZq21N_XA3c",
    "outputId": "796e83e2-f765-4f7f-a0f1-9577e3e4815d"
   },
   "outputs": [
    {
     "data": {
      "text/plain": [
       "array([0.73663192, 0.77617249, 0.69178081, 0.76664426, 1.        ,\n",
       "       0.76664425])"
      ]
     },
     "execution_count": 15,
     "metadata": {},
     "output_type": "execute_result"
    }
   ],
   "source": [
    "train_set_scaled[0]"
   ]
  },
  {
   "cell_type": "markdown",
   "metadata": {
    "id": "0D4yfMz-119M"
   },
   "source": [
    "# Generate windowed timestamp data"
   ]
  },
  {
   "cell_type": "code",
   "execution_count": 16,
   "metadata": {
    "id": "_MZUhf95dEOb"
   },
   "outputs": [],
   "source": [
    "# this function will combine data of 60 days (we can change it using time_window parameter) \n",
    "\n",
    "def generate_data(series, y_col_index, time_window=60):\n",
    "    X = []\n",
    "    y = []\n",
    "    for i in range(60, len(series)):\n",
    "        X.append(series[i-time_window: i])\n",
    "        y.append(series[i, y_col_index])\n",
    "    return (np.array(X), np.array(y))"
   ]
  },
  {
   "cell_type": "code",
   "execution_count": 17,
   "metadata": {
    "id": "-LTk_d_LVkp-"
   },
   "outputs": [],
   "source": [
    "X_train, y_train = generate_data(train_set_scaled, y_col_index=y_col_index)\n",
    "X_test, y_test = generate_data(test_set_scaled, y_col_index=y_col_index)"
   ]
  },
  {
   "cell_type": "code",
   "execution_count": 18,
   "metadata": {
    "colab": {
     "base_uri": "https://localhost:8080/"
    },
    "id": "nk7SharODzgi",
    "outputId": "3f97dda3-8189-4aac-8bf0-9c210597bcf3"
   },
   "outputs": [
    {
     "name": "stdout",
     "output_type": "stream",
     "text": [
      "Training data shape:  (1558, 60, 6)\n",
      "We will observe 60 days price to predict next day price\n"
     ]
    }
   ],
   "source": [
    "print('Training data shape: ',X_train.shape)\n",
    "print('We will observe {} days price to predict next day price'.format(X_train.shape[1]))"
   ]
  },
  {
   "cell_type": "markdown",
   "metadata": {
    "id": "EOH3Q-buEYpq"
   },
   "source": [
    "# Create Multi Layer LSTM Network"
   ]
  },
  {
   "cell_type": "code",
   "execution_count": 19,
   "metadata": {
    "id": "F-4Mhxkl9HNl"
   },
   "outputs": [],
   "source": [
    "import keras\n",
    "from keras.models import Sequential\n",
    "from keras.layers import Dense\n",
    "from keras.layers import LSTM\n",
    "from keras.layers import Dropout"
   ]
  },
  {
   "cell_type": "code",
   "execution_count": 20,
   "metadata": {
    "id": "b7YdmsA4VuYu"
   },
   "outputs": [],
   "source": [
    "model = Sequential()\n",
    "\n",
    "# layer 1\n",
    "#return_sequence=True, it will return something with shape\n",
    "#unit means the dimension of the inner cells in LSTM.\n",
    "\n",
    "model.add(LSTM(units = 50, return_sequences = True, input_shape = X_train.shape[1:]))\n",
    "model.add(Dropout(0.2))\n",
    "\n",
    "# layer 2\n",
    "model.add(LSTM(units = 30, return_sequences = True))\n",
    "model.add(Dropout(0.2))\n",
    "\n",
    "# layer 3\n",
    "model.add(LSTM(units = 10, return_sequences = True))\n",
    "model.add(Dropout(0.2))\n",
    "\n",
    "# layer 4\n",
    "model.add(LSTM(units = 5))\n",
    "model.add(Dropout(0.2))\n",
    "\n",
    "# layer 5\n",
    "model.add(Dense(units = 1))"
   ]
  },
  {
   "cell_type": "code",
   "execution_count": 21,
   "metadata": {
    "colab": {
     "base_uri": "https://localhost:8080/"
    },
    "id": "x2zssOkYPVRX",
    "outputId": "ef514598-d201-49da-dc0f-5fb6ef4608e1"
   },
   "outputs": [
    {
     "name": "stdout",
     "output_type": "stream",
     "text": [
      "Model: \"sequential\"\n",
      "_________________________________________________________________\n",
      "Layer (type)                 Output Shape              Param #   \n",
      "=================================================================\n",
      "lstm (LSTM)                  (None, 60, 50)            11400     \n",
      "_________________________________________________________________\n",
      "dropout (Dropout)            (None, 60, 50)            0         \n",
      "_________________________________________________________________\n",
      "lstm_1 (LSTM)                (None, 60, 30)            9720      \n",
      "_________________________________________________________________\n",
      "dropout_1 (Dropout)          (None, 60, 30)            0         \n",
      "_________________________________________________________________\n",
      "lstm_2 (LSTM)                (None, 60, 10)            1640      \n",
      "_________________________________________________________________\n",
      "dropout_2 (Dropout)          (None, 60, 10)            0         \n",
      "_________________________________________________________________\n",
      "lstm_3 (LSTM)                (None, 5)                 320       \n",
      "_________________________________________________________________\n",
      "dropout_3 (Dropout)          (None, 5)                 0         \n",
      "_________________________________________________________________\n",
      "dense (Dense)                (None, 1)                 6         \n",
      "=================================================================\n",
      "Total params: 23,086\n",
      "Trainable params: 23,086\n",
      "Non-trainable params: 0\n",
      "_________________________________________________________________\n"
     ]
    }
   ],
   "source": [
    "model.summary()"
   ]
  },
  {
   "cell_type": "markdown",
   "metadata": {
    "id": "Cw6jqH_a2F8o"
   },
   "source": [
    "## Compile and train LSTM Network"
   ]
  },
  {
   "cell_type": "code",
   "execution_count": 22,
   "metadata": {
    "colab": {
     "base_uri": "https://localhost:8080/"
    },
    "id": "-QtQG_5TWC0W",
    "outputId": "1e245242-88be-49e3-dc2b-389ee518307e"
   },
   "outputs": [
    {
     "name": "stdout",
     "output_type": "stream",
     "text": [
      "Epoch 1/100\n",
      "25/25 [==============================] - 8s 120ms/step - loss: 0.0140 - val_loss: 0.0091\n",
      "Epoch 2/100\n",
      "25/25 [==============================] - 2s 75ms/step - loss: 0.0063 - val_loss: 0.0136\n",
      "Epoch 3/100\n",
      "25/25 [==============================] - 2s 81ms/step - loss: 0.0050 - val_loss: 0.0117\n",
      "Epoch 4/100\n",
      "25/25 [==============================] - 2s 89ms/step - loss: 0.0046 - val_loss: 0.0135\n",
      "Epoch 5/100\n",
      "25/25 [==============================] - 2s 95ms/step - loss: 0.0044 - val_loss: 0.0147\n",
      "Epoch 6/100\n",
      "25/25 [==============================] - 3s 105ms/step - loss: 0.0043 - val_loss: 0.0151\n",
      "Epoch 7/100\n",
      "25/25 [==============================] - 2s 87ms/step - loss: 0.0043 - val_loss: 0.0086\n",
      "Epoch 8/100\n",
      "25/25 [==============================] - 2s 88ms/step - loss: 0.0035 - val_loss: 0.0097\n",
      "Epoch 9/100\n",
      "25/25 [==============================] - 2s 89ms/step - loss: 0.0034 - val_loss: 0.0116\n",
      "Epoch 10/100\n",
      "25/25 [==============================] - 2s 89ms/step - loss: 0.0036 - val_loss: 0.0144\n",
      "Epoch 11/100\n",
      "25/25 [==============================] - 2s 91ms/step - loss: 0.0037 - val_loss: 0.0117\n",
      "Epoch 12/100\n",
      "25/25 [==============================] - 3s 111ms/step - loss: 0.0037 - val_loss: 0.0101\n",
      "Epoch 13/100\n",
      "25/25 [==============================] - 3s 107ms/step - loss: 0.0032 - val_loss: 0.0199\n",
      "Epoch 14/100\n",
      "25/25 [==============================] - 2s 98ms/step - loss: 0.0033 - val_loss: 0.0082\n",
      "Epoch 15/100\n",
      "25/25 [==============================] - 3s 114ms/step - loss: 0.0031 - val_loss: 0.0105\n",
      "Epoch 16/100\n",
      "25/25 [==============================] - 3s 112ms/step - loss: 0.0027 - val_loss: 0.0099\n",
      "Epoch 17/100\n",
      "25/25 [==============================] - 3s 117ms/step - loss: 0.0030 - val_loss: 0.0080\n",
      "Epoch 18/100\n",
      "25/25 [==============================] - 3s 113ms/step - loss: 0.0030 - val_loss: 0.0094\n",
      "Epoch 19/100\n",
      "25/25 [==============================] - 3s 125ms/step - loss: 0.0030 - val_loss: 0.0093\n",
      "Epoch 20/100\n",
      "25/25 [==============================] - 3s 119ms/step - loss: 0.0030 - val_loss: 0.0114\n",
      "Epoch 21/100\n",
      "25/25 [==============================] - 3s 132ms/step - loss: 0.0031 - val_loss: 0.0091\n",
      "Epoch 22/100\n",
      "25/25 [==============================] - 4s 158ms/step - loss: 0.0031 - val_loss: 0.0103\n",
      "Epoch 23/100\n",
      "25/25 [==============================] - 4s 161ms/step - loss: 0.0029 - val_loss: 0.0136\n",
      "Epoch 24/100\n",
      "25/25 [==============================] - 3s 130ms/step - loss: 0.0027 - val_loss: 0.0105\n",
      "Epoch 25/100\n",
      "25/25 [==============================] - 4s 161ms/step - loss: 0.0029 - val_loss: 0.0077\n",
      "Epoch 26/100\n",
      "25/25 [==============================] - 4s 177ms/step - loss: 0.0030 - val_loss: 0.0137\n",
      "Epoch 27/100\n",
      "25/25 [==============================] - 4s 163ms/step - loss: 0.0028 - val_loss: 0.0084\n",
      "Epoch 28/100\n",
      "25/25 [==============================] - 4s 143ms/step - loss: 0.0024 - val_loss: 0.0105\n",
      "Epoch 29/100\n",
      "25/25 [==============================] - 5s 190ms/step - loss: 0.0028 - val_loss: 0.0086\n",
      "Epoch 30/100\n",
      "25/25 [==============================] - 5s 220ms/step - loss: 0.0028 - val_loss: 0.0066\n",
      "Epoch 31/100\n",
      "25/25 [==============================] - 4s 175ms/step - loss: 0.0025 - val_loss: 0.0126\n",
      "Epoch 32/100\n",
      "25/25 [==============================] - 4s 148ms/step - loss: 0.0030 - val_loss: 0.0095\n",
      "Epoch 33/100\n",
      "25/25 [==============================] - 4s 172ms/step - loss: 0.0025 - val_loss: 0.0072\n",
      "Epoch 34/100\n",
      "25/25 [==============================] - 5s 184ms/step - loss: 0.0024 - val_loss: 0.0122\n",
      "Epoch 35/100\n",
      "25/25 [==============================] - 5s 189ms/step - loss: 0.0026 - val_loss: 0.0079\n",
      "Epoch 36/100\n",
      "25/25 [==============================] - 4s 160ms/step - loss: 0.0025 - val_loss: 0.0066\n",
      "Epoch 37/100\n",
      "25/25 [==============================] - 4s 144ms/step - loss: 0.0028 - val_loss: 0.0097\n",
      "Epoch 38/100\n",
      "25/25 [==============================] - 4s 157ms/step - loss: 0.0026 - val_loss: 0.0065\n",
      "Epoch 39/100\n",
      "25/25 [==============================] - 4s 178ms/step - loss: 0.0025 - val_loss: 0.0091\n",
      "Epoch 40/100\n",
      "25/25 [==============================] - 4s 179ms/step - loss: 0.0025 - val_loss: 0.0076\n",
      "Epoch 41/100\n",
      "25/25 [==============================] - 4s 150ms/step - loss: 0.0023 - val_loss: 0.0079\n",
      "Epoch 42/100\n",
      "25/25 [==============================] - 4s 142ms/step - loss: 0.0023 - val_loss: 0.0098\n",
      "Epoch 43/100\n",
      "25/25 [==============================] - 4s 148ms/step - loss: 0.0022 - val_loss: 0.0114\n",
      "Epoch 44/100\n",
      "25/25 [==============================] - 3s 131ms/step - loss: 0.0023 - val_loss: 0.0100\n",
      "Epoch 45/100\n",
      "25/25 [==============================] - 3s 118ms/step - loss: 0.0026 - val_loss: 0.0077\n",
      "Epoch 46/100\n",
      "25/25 [==============================] - 4s 169ms/step - loss: 0.0022 - val_loss: 0.0061\n",
      "Epoch 47/100\n",
      "25/25 [==============================] - 4s 150ms/step - loss: 0.0026 - val_loss: 0.0060\n",
      "Epoch 48/100\n",
      "25/25 [==============================] - 4s 166ms/step - loss: 0.0023 - val_loss: 0.0068\n",
      "Epoch 49/100\n",
      "25/25 [==============================] - 4s 178ms/step - loss: 0.0029 - val_loss: 0.0113\n",
      "Epoch 50/100\n",
      "25/25 [==============================] - 4s 175ms/step - loss: 0.0023 - val_loss: 0.0113\n",
      "Epoch 51/100\n",
      "25/25 [==============================] - 4s 162ms/step - loss: 0.0025 - val_loss: 0.0058\n",
      "Epoch 52/100\n",
      "25/25 [==============================] - 3s 140ms/step - loss: 0.0024 - val_loss: 0.0046\n",
      "Epoch 53/100\n",
      "25/25 [==============================] - 3s 133ms/step - loss: 0.0023 - val_loss: 0.0053\n",
      "Epoch 54/100\n",
      "25/25 [==============================] - 4s 159ms/step - loss: 0.0023 - val_loss: 0.0048\n",
      "Epoch 55/100\n",
      "25/25 [==============================] - 3s 137ms/step - loss: 0.0024 - val_loss: 0.0074\n",
      "Epoch 56/100\n",
      "25/25 [==============================] - 3s 130ms/step - loss: 0.0023 - val_loss: 0.0051\n",
      "Epoch 57/100\n",
      "25/25 [==============================] - 3s 131ms/step - loss: 0.0022 - val_loss: 0.0072\n",
      "Epoch 58/100\n",
      "25/25 [==============================] - 4s 141ms/step - loss: 0.0021 - val_loss: 0.0111\n",
      "Epoch 59/100\n",
      "25/25 [==============================] - 3s 135ms/step - loss: 0.0025 - val_loss: 0.0050\n",
      "Epoch 60/100\n",
      "25/25 [==============================] - 4s 147ms/step - loss: 0.0028 - val_loss: 0.0057\n",
      "Epoch 61/100\n",
      "25/25 [==============================] - 4s 163ms/step - loss: 0.0022 - val_loss: 0.0057\n",
      "Epoch 62/100\n",
      "25/25 [==============================] - 4s 153ms/step - loss: 0.0022 - val_loss: 0.0090\n",
      "Epoch 63/100\n",
      "25/25 [==============================] - 5s 201ms/step - loss: 0.0023 - val_loss: 0.0077\n",
      "Epoch 64/100\n",
      "25/25 [==============================] - 5s 182ms/step - loss: 0.0025 - val_loss: 0.0069\n",
      "Epoch 65/100\n",
      "25/25 [==============================] - 4s 181ms/step - loss: 0.0026 - val_loss: 0.0112\n",
      "Epoch 66/100\n",
      "25/25 [==============================] - 4s 174ms/step - loss: 0.0022 - val_loss: 0.0154\n",
      "Epoch 67/100\n",
      "25/25 [==============================] - 5s 208ms/step - loss: 0.0023 - val_loss: 0.0082\n",
      "Epoch 68/100\n",
      "25/25 [==============================] - 4s 150ms/step - loss: 0.0023 - val_loss: 0.0043\n",
      "Epoch 69/100\n",
      "25/25 [==============================] - 4s 158ms/step - loss: 0.0025 - val_loss: 0.0081\n",
      "Epoch 70/100\n",
      "25/25 [==============================] - 4s 152ms/step - loss: 0.0023 - val_loss: 0.0093\n",
      "Epoch 71/100\n",
      "25/25 [==============================] - 4s 141ms/step - loss: 0.0021 - val_loss: 0.0097\n",
      "Epoch 72/100\n",
      "25/25 [==============================] - 4s 150ms/step - loss: 0.0022 - val_loss: 0.0051\n",
      "Epoch 73/100\n",
      "25/25 [==============================] - 4s 162ms/step - loss: 0.0023 - val_loss: 0.0043\n",
      "Epoch 74/100\n",
      "25/25 [==============================] - 4s 166ms/step - loss: 0.0021 - val_loss: 0.0052\n",
      "Epoch 75/100\n",
      "25/25 [==============================] - 5s 190ms/step - loss: 0.0025 - val_loss: 0.0066\n",
      "Epoch 76/100\n",
      "25/25 [==============================] - 5s 194ms/step - loss: 0.0025 - val_loss: 0.0040\n",
      "Epoch 77/100\n",
      "25/25 [==============================] - 5s 186ms/step - loss: 0.0021 - val_loss: 0.0086\n",
      "Epoch 78/100\n",
      "25/25 [==============================] - 5s 212ms/step - loss: 0.0022 - val_loss: 0.0045\n",
      "Epoch 79/100\n",
      "25/25 [==============================] - 5s 203ms/step - loss: 0.0020 - val_loss: 0.0067\n",
      "Epoch 80/100\n",
      "25/25 [==============================] - 5s 188ms/step - loss: 0.0023 - val_loss: 0.0063\n",
      "Epoch 81/100\n",
      "25/25 [==============================] - 6s 262ms/step - loss: 0.0020 - val_loss: 0.0069\n",
      "Epoch 82/100\n",
      "25/25 [==============================] - 5s 180ms/step - loss: 0.0022 - val_loss: 0.0082\n",
      "Epoch 83/100\n",
      "25/25 [==============================] - 4s 163ms/step - loss: 0.0021 - val_loss: 0.0069\n",
      "Epoch 84/100\n",
      "25/25 [==============================] - 4s 175ms/step - loss: 0.0022 - val_loss: 0.0045\n",
      "Epoch 85/100\n",
      "25/25 [==============================] - 4s 150ms/step - loss: 0.0023 - val_loss: 0.0058\n",
      "Epoch 86/100\n",
      "25/25 [==============================] - 4s 146ms/step - loss: 0.0021 - val_loss: 0.0081\n",
      "Epoch 87/100\n",
      "25/25 [==============================] - 4s 162ms/step - loss: 0.0025 - val_loss: 0.0074\n",
      "Epoch 88/100\n",
      "25/25 [==============================] - 4s 155ms/step - loss: 0.0023 - val_loss: 0.0056\n",
      "Epoch 89/100\n",
      "25/25 [==============================] - 4s 147ms/step - loss: 0.0022 - val_loss: 0.0071\n",
      "Epoch 90/100\n",
      "25/25 [==============================] - 3s 123ms/step - loss: 0.0020 - val_loss: 0.0073\n",
      "Epoch 91/100\n",
      "25/25 [==============================] - 3s 126ms/step - loss: 0.0019 - val_loss: 0.0088\n",
      "Epoch 92/100\n",
      "25/25 [==============================] - 3s 119ms/step - loss: 0.0022 - val_loss: 0.0064\n",
      "Epoch 93/100\n",
      "25/25 [==============================] - 3s 119ms/step - loss: 0.0021 - val_loss: 0.0059\n",
      "Epoch 94/100\n",
      "25/25 [==============================] - 3s 118ms/step - loss: 0.0022 - val_loss: 0.0047\n",
      "Epoch 95/100\n",
      "25/25 [==============================] - 3s 126ms/step - loss: 0.0023 - val_loss: 0.0061\n",
      "Epoch 96/100\n",
      "25/25 [==============================] - 3s 130ms/step - loss: 0.0019 - val_loss: 0.0068\n",
      "Epoch 97/100\n",
      "25/25 [==============================] - 3s 116ms/step - loss: 0.0020 - val_loss: 0.0078\n",
      "Epoch 98/100\n",
      "25/25 [==============================] - 3s 140ms/step - loss: 0.0023 - val_loss: 0.0052\n",
      "Epoch 99/100\n",
      "25/25 [==============================] - 4s 142ms/step - loss: 0.0021 - val_loss: 0.0061\n",
      "Epoch 100/100\n",
      "25/25 [==============================] - 3s 127ms/step - loss: 0.0022 - val_loss: 0.0049\n"
     ]
    },
    {
     "data": {
      "text/plain": [
       "<keras.callbacks.History at 0x7f7d9131f970>"
      ]
     },
     "execution_count": 22,
     "metadata": {},
     "output_type": "execute_result"
    }
   ],
   "source": [
    "model.compile(optimizer = 'adam', loss = 'mean_squared_error')\n",
    "model.fit(X_train,\n",
    "          y_train,\n",
    "          epochs = 100,\n",
    "          batch_size = 64,\n",
    "          validation_data = (X_test, y_test))"
   ]
  },
  {
   "cell_type": "markdown",
   "metadata": {
    "id": "fz-Bo96p2OAy"
   },
   "source": [
    "# Test trained LSTM Network"
   ]
  },
  {
   "cell_type": "code",
   "execution_count": 23,
   "metadata": {
    "id": "6eGujeyUjhJ2"
   },
   "outputs": [],
   "source": [
    "test_prediction = model.predict(X_test)\n",
    "test_prediction = (test_prediction * sc.data_range_[y_col_index]) + sc.data_min_[y_col_index]"
   ]
  },
  {
   "cell_type": "code",
   "execution_count": 24,
   "metadata": {
    "colab": {
     "base_uri": "https://localhost:8080/",
     "height": 350
    },
    "id": "62T4wFjEHFCF",
    "outputId": "2dea5866-b1d8-4645-d943-f263f15ced5a"
   },
   "outputs": [
    {
     "data": {
      "image/png": "[encoded data removed]",
      "text/plain": [
       "<Figure size 1080x360 with 1 Axes>"
      ]
     },
     "metadata": {
      "needs_background": "light"
     },
     "output_type": "display_data"
    }
   ],
   "source": [
    "fig = plt.figure(figsize = (15, 5))\n",
    "plt.plot(data.Date.values[ split_index+60 : ], data.Close.values[ split_index+60: ], 'r-', label = 'Actual TCS Stock Price')\n",
    "plt.plot(data['Date'].values[split_index+60 : ], test_prediction, 'b--', label = 'Testing prediction')\n",
    "\n",
    "plt.title('TCS share Stock Price Prediction')\n",
    "plt.xlabel('Date')\n",
    "plt.ylabel('TCS share Stock Price')\n",
    "plt.legend()\n",
    "plt.show()"
   ]
  },
  {
   "cell_type": "code",
   "execution_count": 25,
   "metadata": {
    "colab": {
     "base_uri": "https://localhost:8080/",
     "height": 352
    },
    "id": "wZhL0_rH_05H",
    "outputId": "105b624f-0290-4982-be2f-49c291bfd4b4"
   },
   "outputs": [
    {
     "data": {
      "image/png": "[encoded data removed]",
      "text/plain": [
       "<Figure size 1800x504 with 1 Axes>"
      ]
     },
     "metadata": {
      "needs_background": "light"
     },
     "output_type": "display_data"
    }
   ],
   "source": [
    "fig = plt.figure(figsize = (25, 7))\n",
    "plt.plot(data.Date.values[ : split_index+60 ], data.Close.values[ : split_index+60 ], 'r-', label = 'Actual TCS Stock Price')\n",
    "plt.plot(data['Date'].values[split_index+60 : ], test_prediction, 'b--', label = 'Testing prediction')\n",
    "\n",
    "plt.title('TCS share Stock Price Prediction')\n",
    "plt.xlabel('Date')\n",
    "plt.ylabel('TCS share Stock Price')\n",
    "plt.legend()\n",
    "plt.show()"
   ]
  },
  {
   "cell_type": "code",
   "execution_count": 26,
   "metadata": {
    "colab": {
     "base_uri": "https://localhost:8080/",
     "height": 352
    },
    "id": "eu10dyBfia_w",
    "outputId": "c9f75ead-a81c-4b7d-91dc-4c9f8ef6c661"
   },
   "outputs": [
    {
     "data": {
      "image/png": "[encoded data removed]",
      "text/plain": [
       "<Figure size 1800x504 with 1 Axes>"
      ]
     },
     "metadata": {
      "needs_background": "light"
     },
     "output_type": "display_data"
    }
   ],
   "source": [
    "fig = plt.figure(figsize = (25, 7))\n",
    "plt.plot(data.Date, data.Close, 'r-', label = 'Actual TCS Stock Price')\n",
    "plt.plot(data['Date'].values[split_index+60 : ], test_prediction, 'b--', label = 'Testing prediction')\n",
    "\n",
    "plt.title('TCS share Stock Price Prediction')\n",
    "plt.xlabel('Date')\n",
    "plt.ylabel('TCS share Stock Price')\n",
    "plt.legend()\n",
    "plt.show()"
   ]
  }
 ],
 "metadata": {
  "colab": {
   "collapsed_sections": [],
   "name": "Zerodha Time Series Forecasting.ipynb",
   "provenance": []
  },
  "kernelspec": {
   "display_name": "Python 3",
   "language": "python",
   "name": "python3"
  },
  "language_info": {
   "codemirror_mode": {
    "name": "ipython",
    "version": 3
   },
   "file_extension": ".py",
   "mimetype": "text/x-python",
   "name": "python",
   "nbconvert_exporter": "python",
   "pygments_lexer": "ipython3",
   "version": "3.8.8"
  }
 },
 "nbformat": 4,
 "nbformat_minor": 1
}
